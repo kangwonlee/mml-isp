{
 "cells": [
  {
   "cell_type": "markdown",
   "metadata": {},
   "source": [
    "# Solutions for exercises of chapter 3\n",
    "\n",
    "https://mml-book.com\n",
    "\n",
    "\n",
    "Author: emil.vatai at gmail.com <br/>\n",
    "Date: 2019-12-24"
   ]
  },
  {
   "cell_type": "code",
   "execution_count": 1,
   "metadata": {},
   "outputs": [],
   "source": [
    "import numpy as np"
   ]
  },
  {
   "cell_type": "markdown",
   "metadata": {},
   "source": [
    "## Exercise 3.1"
   ]
  },
  {
   "cell_type": "markdown",
   "metadata": {},
   "source": [
    "- Symmetry: $\\langle \\mathbf{x}, \\mathbf{y} \\rangle = x_1 y_1 - (x_1 y_2 + x_2 y_1) + 2x_2 y_2 = y_1 x_1 - (y_1 x_2 + y_2 x_1) + 2 y_2 y_2 = \\langle \\mathbf{y}, \\mathbf{x} \\rangle$\n",
    "- Positive definite: $\\langle \\mathbf{x}, \\mathbf{x} \\rangle = x_1^2 - 2 x_1 x_2 + 2x_2^2 = (x_1 - x_2)^2 + x_2^2 \\ge 0$ since $(x_1 - x_2)^2 \\ge 0$ and $x_2^2 \\ge 0$."
   ]
  },
  {
   "cell_type": "markdown",
   "metadata": {},
   "source": [
    "# Exercise 3.2"
   ]
  },
  {
   "cell_type": "code",
   "execution_count": null,
   "metadata": {},
   "outputs": [],
   "source": []
  },
  {
   "cell_type": "markdown",
   "metadata": {},
   "source": [
    "# Exercise 3.3"
   ]
  },
  {
   "cell_type": "code",
   "execution_count": 2,
   "metadata": {},
   "outputs": [
    {
     "name": "stdout",
     "output_type": "stream",
     "text": [
      "a: sqrt(22) = 4.69041575982343\n",
      "b: sqrt(47) = 6.855654600401044\n"
     ]
    }
   ],
   "source": [
    "x = np.array([1, 2, 3])\n",
    "y = np.array([-1, -1, 0])\n",
    "A = np.array([\n",
    "    [2, 1,  0],\n",
    "    [1, 3, -1],\n",
    "    [0, -1, 2]\n",
    "])\n",
    "sol33a_sqr = (x - y).dot(x - y)\n",
    "sol33a = np.sqrt(sol33a_sqr)\n",
    "print(f\"a: sqrt({sol33a_sqr}) = {sol33a}\")\n",
    "\n",
    "sol33b_sqr = (x - y).dot(A).dot(x - y)\n",
    "sol33b = np.sqrt(sol33b_sqr)\n",
    "print(f\"b: sqrt({sol33b_sqr}) = {sol33b}\")"
   ]
  },
  {
   "cell_type": "markdown",
   "metadata": {},
   "source": [
    "# Exercise 3.4"
   ]
  },
  {
   "cell_type": "code",
   "execution_count": 3,
   "metadata": {},
   "outputs": [
    {
     "name": "stdout",
     "output_type": "stream",
     "text": [
      "a: \\cos \\omega = -0.9486832980505138 => \\omega = 2.819842099193151\n",
      "b: \\cos \\omega = -0.9799578870122228 => \\omega = 2.9410462957012875\n"
     ]
    }
   ],
   "source": [
    "x = np.array([1, 2])\n",
    "y = np.array([-1, -1])\n",
    "B = np.array([\n",
    "    [2, 1], \n",
    "    [1, 3]\n",
    "])\n",
    "\n",
    "x_norm = np.sqrt(x.dot(x))\n",
    "y_norm = np.sqrt(y.dot(y))\n",
    "sol34a_cos = x.dot(y) / (x_norm * y_norm)\n",
    "sol34a = np.arccos(sol34a_cos)\n",
    "print(f\"a: \\cos \\omega = {sol34a_cos} => \\omega = {sol34a}\")\n",
    "\n",
    "x_innerprod_y = x.dot(B).dot(y)\n",
    "x_normB = np.sqrt(x.dot(B).dot(x))\n",
    "y_normB = np.sqrt(y.dot(B).dot(y))\n",
    "sol34a_cos = x_innerprod_y / (x_normB * y_normB)\n",
    "sol34a = np.arccos(sol34a_cos)\n",
    "print(f\"b: \\cos \\omega = {sol34a_cos} => \\omega = {sol34a}\")\n"
   ]
  },
  {
   "cell_type": "markdown",
   "metadata": {},
   "source": [
    "# Exercise 3.5"
   ]
  },
  {
   "cell_type": "code",
   "execution_count": 4,
   "metadata": {},
   "outputs": [
    {
     "data": {
      "text/plain": [
       "array([[-1, -3,  4, -3],\n",
       "       [ 0,  1, -3, -1],\n",
       "       [ 0,  0, -1, -1],\n",
       "       [ 0,  0,  0,  0],\n",
       "       [ 0,  0,  0,  0]])"
      ]
     },
     "execution_count": 4,
     "metadata": {},
     "output_type": "execute_result"
    }
   ],
   "source": [
    "x = np.array([-1, -9, -1, 4, 1])\n",
    "\n",
    "U = np.array([\n",
    "    [0,   1, -3, -1],\n",
    "    [-1, -3,  4, -3],\n",
    "    [2,   1,  1,  5],\n",
    "    [0,  -1,  2,  0],\n",
    "    [2,   2,  1,  7]\n",
    "])\n",
    "\n",
    "tmp = np.vstack([\n",
    "    U[1, :],\n",
    "    U[0, :],\n",
    "    U[2, :],\n",
    "    U[3, :],\n",
    "    U[4, :],\n",
    "])\n",
    "\n",
    "tmp[2, :] += 2 * tmp[0, :]\n",
    "tmp[4, :] += 2 * tmp[0, :]\n",
    "tmp\n",
    "tmp[2, :] += 5 * tmp[1, :]\n",
    "tmp[3, :] += 1 * tmp[1, :]\n",
    "tmp[4, :] += 4 * tmp[1, :]\n",
    "tmp\n",
    "tmp[2, :], tmp[3, :] = tmp[3, :], tmp[2, :]\n",
    "tmp[3, :] += -1 * tmp[2, :]\n",
    "tmp[4, :] += -3 * tmp[2, :]\n",
    "tmp"
   ]
  },
  {
   "cell_type": "markdown",
   "metadata": {},
   "source": [
    "Based on the Row Echelon form the last column vector is linearly dependent on the first three, so only those are used to construct $B$"
   ]
  },
  {
   "cell_type": "code",
   "execution_count": 5,
   "metadata": {},
   "outputs": [
    {
     "data": {
      "text/plain": [
       "array([[ 0,  1, -3],\n",
       "       [-1, -3,  4],\n",
       "       [ 2,  1,  1],\n",
       "       [ 0, -1,  2],\n",
       "       [ 2,  2,  1]])"
      ]
     },
     "execution_count": 5,
     "metadata": {},
     "output_type": "execute_result"
    }
   ],
   "source": [
    "B = U[:, 0:3]\n",
    "B"
   ]
  },
  {
   "cell_type": "code",
   "execution_count": 6,
   "metadata": {},
   "outputs": [
    {
     "data": {
      "text/plain": [
       "array([[  9,   9,   0],\n",
       "       [  9,  16, -14],\n",
       "       [  0, -14,  31]])"
      ]
     },
     "execution_count": 6,
     "metadata": {},
     "output_type": "execute_result"
    }
   ],
   "source": [
    "BTB = B.T.dot(B)\n",
    "BTB"
   ]
  },
  {
   "cell_type": "code",
   "execution_count": 11,
   "metadata": {},
   "outputs": [
    {
     "name": "stdout",
     "output_type": "stream",
     "text": [
      "[[  9.   9.   0.   1.   0.   0.]\n",
      " [  0.   7. -14.  -1.   1.   0.]\n",
      " [  0.   0.   3.  -2.   2.   1.]]\n",
      "[[ 1.          0.          0.          1.58730159 -1.47619048 -0.66666667]\n",
      " [ 0.          1.          0.         -1.47619048  1.47619048  0.66666667]\n",
      " [ 0.          0.          1.         -0.66666667  0.66666667  0.33333333]]\n",
      "Almost identity:\n",
      "[[ 1.00000000e+00  6.66133815e-16 -1.22124533e-15]\n",
      " [-2.22044605e-16  1.00000000e+00  1.22124533e-15]\n",
      " [-3.33066907e-16 -3.33066907e-16  1.00000000e+00]]\n",
      "Projection matrix:\n",
      "[[ 0.47619048 -0.28571429  0.19047619 -0.14285714 -0.33333333]\n",
      " [-0.28571429  0.68253968  0.06349206  0.28571429 -0.22222222]\n",
      " [ 0.19047619  0.06349206  0.92063492  0.14285714  0.11111111]\n",
      " [-0.14285714  0.28571429  0.14285714  0.14285714  0.        ]\n",
      " [-0.33333333 -0.22222222  0.11111111  0.          0.77777778]]\n"
     ]
    }
   ],
   "source": [
    "tmp = np.hstack([BTB.copy(), np.eye(3)])\n",
    "tmp[1, :] -= tmp[0, :]\n",
    "tmp[2, :] += 2*tmp[1, :]\n",
    "print(tmp)\n",
    "tmp[0, :] /= 9\n",
    "tmp[1, :] /= 7\n",
    "tmp[2, :] /= 3\n",
    "tmp[0, :] -= tmp[1, :]\n",
    "tmp[0, :] += -2 * tmp[2, :]\n",
    "tmp[1, :] += 2 * tmp[2, :]\n",
    "print(tmp)\n",
    "BTBinv = tmp[:, 3:]\n",
    "print(\"Almost identity:\")\n",
    "print(BTBinv.dot(BTB)) # Almost Identity (close enough)\n",
    "proj_mat = B.dot(BTBinv.dot(B.T))\n",
    "# proj_mat = np.vstack([proj_mat, np.zeros([2,5])])\n",
    "print(\"Projection matrix:\")\n",
    "print(proj_mat)"
   ]
  },
  {
   "cell_type": "code",
   "execution_count": 8,
   "metadata": {},
   "outputs": [
    {
     "data": {
      "text/plain": [
       "array([ 1., -5., -1., -2.,  3.])"
      ]
     },
     "execution_count": 8,
     "metadata": {},
     "output_type": "execute_result"
    }
   ],
   "source": [
    "proj_x = proj_mat.dot(x)\n",
    "proj_x"
   ]
  },
  {
   "cell_type": "code",
   "execution_count": 9,
   "metadata": {},
   "outputs": [
    {
     "data": {
      "text/plain": [
       "array([ 1., -5., -1., -2.,  3.])"
      ]
     },
     "execution_count": 9,
     "metadata": {},
     "output_type": "execute_result"
    }
   ],
   "source": [
    "proj_mat.dot(proj_x) # verify it's a projection"
   ]
  },
  {
   "cell_type": "markdown",
   "metadata": {},
   "source": [
    "# Exercise 3.6"
   ]
  },
  {
   "cell_type": "code",
   "execution_count": 32,
   "metadata": {},
   "outputs": [
    {
     "name": "stdout",
     "output_type": "stream",
     "text": [
      "B matrix: \n",
      " [[1 0]\n",
      " [0 0]\n",
      " [0 1]]\n",
      "BTCB: \n",
      " [[2 0]\n",
      " [0 2]]\n",
      "Check inverse:  True\n",
      "Projection matrix:\n",
      "[[ 1.   0.5  0. ]\n",
      " [ 0.   0.   0. ]\n",
      " [ 0.  -0.5  1. ]]\n",
      "Projection of e_2: [ 0.5  0.  -0.5]\n"
     ]
    }
   ],
   "source": [
    "C = np.array([\n",
    "    [2, 1, 0],\n",
    "    [1, 2, -1],\n",
    "    [0, -1, 2]\n",
    "])\n",
    "U = np.array([\n",
    "    [1, 0],\n",
    "    [0, 0],\n",
    "    [0, 1]\n",
    "])\n",
    "x = np.array([0, 1, 0])\n",
    "\n",
    "B = U.copy()\n",
    "print(\"B matrix: \\n\", B)\n",
    "BTCB = B.T.dot(C).dot(B)\n",
    "\n",
    "print(\"BTCB: \\n\", BTCB)\n",
    "BTCBinv = BTCB/4\n",
    "\n",
    "print(\"Check inverse: \", np.all(BTCBinv.dot(BTCB) == np.eye(2)))\n",
    "\n",
    "proj_mat = B.dot(BTCBinv).dot(B.T).dot(C) # B(BT C B)^{-1} BT C\n",
    "print(\"Projection matrix:\")\n",
    "print(proj_mat)\n",
    "\n",
    "print(\"Projection of e_2:\", proj_mat.dot(x))\n",
    "# Note 100% sure about this"
   ]
  },
  {
   "cell_type": "code",
   "execution_count": null,
   "metadata": {},
   "outputs": [],
   "source": []
  },
  {
   "cell_type": "markdown",
   "metadata": {},
   "source": [
    "# Exercise 3.7"
   ]
  },
  {
   "cell_type": "code",
   "execution_count": null,
   "metadata": {},
   "outputs": [],
   "source": []
  },
  {
   "cell_type": "markdown",
   "metadata": {},
   "source": [
    "# Exercise 3.8"
   ]
  },
  {
   "cell_type": "code",
   "execution_count": null,
   "metadata": {},
   "outputs": [],
   "source": []
  },
  {
   "cell_type": "markdown",
   "metadata": {},
   "source": [
    "# Exercise 3.9"
   ]
  }
 ],
 "metadata": {
  "kernelspec": {
   "display_name": "Python 3",
   "language": "python",
   "name": "python3"
  },
  "language_info": {
   "codemirror_mode": {
    "name": "ipython",
    "version": 3
   },
   "file_extension": ".py",
   "mimetype": "text/x-python",
   "name": "python",
   "nbconvert_exporter": "python",
   "pygments_lexer": "ipython3",
   "version": "3.8.0"
  }
 },
 "nbformat": 4,
 "nbformat_minor": 2
}
