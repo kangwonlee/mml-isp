{
 "cells": [
  {
   "cell_type": "code",
   "execution_count": null,
   "metadata": {},
   "outputs": [],
   "source": [
    "import matplotlib.pyplot as plt\n",
    "import numpy as np\n",
    "import numpy.random as nr\n",
    "import sympy as sy\n",
    "import typing\n",
    "\n",
    "import IPython.display as disp\n",
    "\n"
   ]
  },
  {
   "cell_type": "code",
   "execution_count": null,
   "metadata": {},
   "outputs": [],
   "source": [
    "sy.init_printing()\n",
    "\n"
   ]
  },
  {
   "cell_type": "markdown",
   "metadata": {},
   "source": [
    "# Ex 02 020 Linear Mapping\n",
    "\n"
   ]
  },
  {
   "cell_type": "markdown",
   "metadata": {},
   "source": [
    "* Marc Peter Deisenroth, A Aldo Faisal, and Cheng Soon Ong, Mathematics For Machine Learning, Cambridge University Press, 2020, ISBN 978-1108455145.\n",
    "\n"
   ]
  },
  {
   "cell_type": "markdown",
   "metadata": {},
   "source": [
    "Let's think about a 2D vector $x$ as follows.\n",
    "\n"
   ]
  },
  {
   "cell_type": "code",
   "execution_count": null,
   "metadata": {},
   "outputs": [],
   "source": [
    "x = np.array([[2, 3]]).T\n",
    "\n"
   ]
  },
  {
   "cell_type": "code",
   "execution_count": null,
   "metadata": {},
   "outputs": [],
   "source": [
    "x\n",
    "\n"
   ]
  },
  {
   "cell_type": "markdown",
   "metadata": {},
   "source": [
    "Let's also think about the basis $\\left(e_1, e_2\\right)$.\n",
    "\n"
   ]
  },
  {
   "cell_type": "code",
   "execution_count": null,
   "metadata": {},
   "outputs": [],
   "source": [
    "e1 = np.array([[1, 0]]).T\n",
    "e2 = np.array([[0, 1]]).T\n",
    "\n"
   ]
  },
  {
   "cell_type": "code",
   "execution_count": null,
   "metadata": {},
   "outputs": [],
   "source": [
    "np.hstack([e1, e2])\n",
    "\n"
   ]
  },
  {
   "cell_type": "markdown",
   "metadata": {},
   "source": [
    "Let's plot $x$, $e_1$, and $e_2$.\n",
    "\n"
   ]
  },
  {
   "cell_type": "code",
   "execution_count": null,
   "metadata": {},
   "outputs": [],
   "source": [
    "plt.plot([0, x[0, 0]], [0, x[1, 0]], 'o-', label='$x$')\n",
    "plt.plot([0, e1[0, 0]], [0, e1[1, 0]], label='$e_1$')\n",
    "plt.plot([0, e2[0, 0]], [0, e2[1, 0]], label='$e_2$')\n",
    "plt.axis('equal')\n",
    "plt.grid(True)\n",
    "plt.legend(loc=0)\n",
    "\n"
   ]
  },
  {
   "cell_type": "markdown",
   "metadata": {},
   "source": [
    "The following cell would try to represent $x$ as a linear combination of $e_1$ and $e_2$.\n",
    "\n"
   ]
  },
  {
   "cell_type": "code",
   "execution_count": null,
   "metadata": {},
   "outputs": [],
   "source": [
    "x_e1_e2 = 2 * e1 + 3 * e2\n",
    "x_e1_e2\n",
    "\n"
   ]
  },
  {
   "cell_type": "code",
   "execution_count": null,
   "metadata": {},
   "outputs": [],
   "source": [
    "plt.plot([0, x[0, 0]], [0, x[1, 0]], 'o-', label='$x$')\n",
    "plt.plot([0, e1[0, 0]], [0, e1[1, 0]], label='$e_1$')\n",
    "plt.plot([0, e2[0, 0]], [0, e2[1, 0]], label='$e_2$')\n",
    "plt.plot([0, x_e1_e2[0, 0]], [0, x_e1_e2[1, 0]], '.-', label=r'$x$ in $\\left( e_1, e_2 \\right)$')\n",
    "plt.axis('equal')\n",
    "plt.grid(True)\n",
    "plt.legend(loc=0)\n",
    "\n"
   ]
  },
  {
   "cell_type": "markdown",
   "metadata": {},
   "source": [
    "## In another basis $\\left(b_1, b_2\\right)$\n",
    "\n"
   ]
  },
  {
   "cell_type": "markdown",
   "metadata": {},
   "source": [
    "Let's also think about another possible basis $\\left(b_1, b_2\\right)$.\n",
    "\n"
   ]
  },
  {
   "cell_type": "code",
   "execution_count": null,
   "metadata": {},
   "outputs": [],
   "source": [
    "b1 = np.array([1, -1]).T\n",
    "b2 = np.array([1, 1]).T\n",
    "\n"
   ]
  },
  {
   "cell_type": "code",
   "execution_count": null,
   "metadata": {},
   "outputs": [],
   "source": [
    "b1, b2\n",
    "\n"
   ]
  },
  {
   "cell_type": "markdown",
   "metadata": {},
   "source": [
    "Now, the following cell would try to represent $x$ as a linear combination of $b_1$ and $b_2$.\n",
    "\n"
   ]
  },
  {
   "cell_type": "code",
   "execution_count": null,
   "metadata": {},
   "outputs": [],
   "source": [
    "x_b1_b2 = 0.5 * (-1 * b1 + 5 * b2)\n",
    "x_b1_b2\n",
    "\n"
   ]
  },
  {
   "cell_type": "code",
   "execution_count": null,
   "metadata": {},
   "outputs": [],
   "source": [
    "plt.plot([0, x[0]], [0, x[1]], 'o-', label='$x$')\n",
    "plt.plot([0, e1[0]], [0, e1[1]], label='$e_1$')\n",
    "plt.plot([0, e2[0]], [0, e2[1]], label='$e_2$')\n",
    "plt.plot([0, x_e1_e2[0]], [0, x_e1_e2[1]], '.-', label=r'$x$ in $\\left( e_1, e_2 \\right)$')\n",
    "plt.plot([0, b1[0]], [0, b1[1]], label='$b_1$')\n",
    "plt.plot([0, b2[0]], [0, b2[1]], label='$b_2$')\n",
    "plt.plot([0, x_b1_b2[0]], [0, x_b1_b2[1]], '.-', label=r'$x$ in $\\left( b_1, b_2 \\right)$')\n",
    "plt.axis('equal')\n",
    "plt.grid(True)\n",
    "plt.legend(loc=0)\n",
    "\n"
   ]
  },
  {
   "cell_type": "code",
   "execution_count": null,
   "metadata": {},
   "outputs": [],
   "source": [
    "import numpy.testing as nt\n",
    "\n",
    "\n",
    "nt.assert_array_almost_equal(x, x_b1_b2)\n",
    "\n"
   ]
  },
  {
   "cell_type": "markdown",
   "metadata": {},
   "source": [
    "## Final Bell\n",
    "\n"
   ]
  },
  {
   "cell_type": "code",
   "execution_count": null,
   "metadata": {},
   "outputs": [],
   "source": [
    "# stackoverfow.com/a/24634221\n",
    "import os\n",
    "os.system(\"printf '\\a'\");\n",
    "\n"
   ]
  },
  {
   "cell_type": "code",
   "execution_count": null,
   "metadata": {},
   "outputs": [],
   "source": []
  }
 ],
 "metadata": {
  "kernelspec": {
   "display_name": "Python 3",
   "language": "python",
   "name": "python3"
  },
  "language_info": {
   "codemirror_mode": {
    "name": "ipython",
    "version": 3
   },
   "file_extension": ".py",
   "mimetype": "text/x-python",
   "name": "python",
   "nbconvert_exporter": "python",
   "pygments_lexer": "ipython3",
   "version": "3.7.3"
  }
 },
 "nbformat": 4,
 "nbformat_minor": 2
}
