{
 "cells": [
  {
   "cell_type": "code",
   "execution_count": null,
   "metadata": {},
   "outputs": [],
   "source": [
    "import numpy as np\n",
    "import numpy.random as nr\n",
    "import sympy as sy\n",
    "import typing\n",
    "\n",
    "import IPython.display as disp\n",
    "\n",
    "sy.init_printing()\n",
    "\n"
   ]
  },
  {
   "cell_type": "markdown",
   "metadata": {},
   "source": [
    "# Ex 02 009 Inverse matrix by Gauss-Jordan Elimination\n",
    "\n"
   ]
  },
  {
   "cell_type": "markdown",
   "metadata": {},
   "source": [
    "* Marc Peter Deisenroth, A Aldo Faisal, and Cheng Soon Ong, Mathematics For Machine Learning, Cambridge University Press, 2020, ISBN 978-1108455145.\n",
    "\n"
   ]
  },
  {
   "cell_type": "markdown",
   "metadata": {},
   "source": [
    "Let's think about a 4x4 matrix as follows.\n",
    "\n"
   ]
  },
  {
   "cell_type": "code",
   "execution_count": null,
   "metadata": {},
   "outputs": [],
   "source": [
    "A44 = np.array([\n",
    "    [1, 0, 2, 0],\n",
    "    [1, 1, 0, 0],\n",
    "    [1, 2, 0, 1],\n",
    "    [1, 1, 1, 1],\n",
    "])\n",
    "\n"
   ]
  },
  {
   "cell_type": "code",
   "execution_count": null,
   "metadata": {},
   "outputs": [],
   "source": [
    "A44\n",
    "\n"
   ]
  },
  {
   "cell_type": "markdown",
   "metadata": {},
   "source": [
    "Let's also think about an identity matrix of the same size.\n",
    "\n"
   ]
  },
  {
   "cell_type": "code",
   "execution_count": null,
   "metadata": {},
   "outputs": [],
   "source": [
    "I44 = np.identity(A44.shape[0], dtype=A44.dtype)\n",
    "\n"
   ]
  },
  {
   "cell_type": "code",
   "execution_count": null,
   "metadata": {},
   "outputs": [],
   "source": [
    "I44\n",
    "\n"
   ]
  },
  {
   "cell_type": "markdown",
   "metadata": {},
   "source": [
    "Let's augment both matrices.\n",
    "\n"
   ]
  },
  {
   "cell_type": "code",
   "execution_count": null,
   "metadata": {},
   "outputs": [],
   "source": [
    "AX44 = np.hstack([A44, I44])\n",
    "\n"
   ]
  },
  {
   "cell_type": "code",
   "execution_count": null,
   "metadata": {},
   "outputs": [],
   "source": [
    "AX44\n",
    "\n"
   ]
  },
  {
   "cell_type": "markdown",
   "metadata": {},
   "source": [
    "## Gauss Jordan Elimination for `numpy.ndarray`\n",
    "\n"
   ]
  },
  {
   "cell_type": "markdown",
   "metadata": {},
   "source": [
    "Following cell implements the Gauss Jordan method expecting the augmented matrix in `numpy.ndarray` type as its input argument.\n",
    "\n"
   ]
  },
  {
   "cell_type": "code",
   "execution_count": null,
   "metadata": {},
   "outputs": [],
   "source": [
    "def gauss_jordan_elimination(AX:np.ndarray, b_verbose:bool=True) -> np.ndarray:\n",
    "    # pivot loop\n",
    "    for p in range(AX.shape[0]):\n",
    "        \n",
    "        one_over_pivot = 1.0 / AX[p, p]\n",
    "\n",
    "        if abs(1 - one_over_pivot) > np.finfo(np.float32).eps:\n",
    "            if b_verbose:\n",
    "                print(f\"Normalize Row {p+1} with {one_over_pivot}.\")\n",
    "\n",
    "            # normalize the pivot row\n",
    "            for j in range(AX.shape[1]):\n",
    "                AX[p, j] *= one_over_pivot\n",
    "\n",
    "            if b_verbose:\n",
    "                print(AX)\n",
    "\n",
    "        # row loop\n",
    "        for i in range(AX.shape[0]):\n",
    "            if i != p and (abs(AX[i, p]) > np.finfo(np.float32).eps):\n",
    "                # row operation\n",
    "                multiplier = - AX[i, p]\n",
    "                \n",
    "                if b_verbose:\n",
    "                    print(f\"Row {i+1} += ({multiplier}) x Row {p+1}\")\n",
    "                \n",
    "                AX[i, :] += multiplier * AX[p, :]\n",
    "                \n",
    "                if b_verbose:\n",
    "                    print(AX)\n",
    "\n",
    "    return AX[:, AX.shape[0]:]\n",
    "\n"
   ]
  },
  {
   "cell_type": "markdown",
   "metadata": {},
   "source": [
    "Let's check with the original matrix.\n",
    "\n"
   ]
  },
  {
   "cell_type": "code",
   "execution_count": null,
   "metadata": {},
   "outputs": [],
   "source": [
    "A44_inv_GJ = gauss_jordan_elimination(AX44)\n",
    "\n"
   ]
  },
  {
   "cell_type": "code",
   "execution_count": null,
   "metadata": {},
   "outputs": [],
   "source": [
    "A44_inv_GJ\n",
    "\n"
   ]
  },
  {
   "cell_type": "code",
   "execution_count": null,
   "metadata": {},
   "outputs": [],
   "source": [
    "A44_inv_GJ @ A44\n",
    "\n"
   ]
  },
  {
   "cell_type": "markdown",
   "metadata": {},
   "source": [
    "## References\n",
    "\n"
   ]
  },
  {
   "cell_type": "markdown",
   "metadata": {},
   "source": [
    "* Gilbert Strang. 18.06 Linear Algebra. Spring 2010. Massachusetts Institute of Technology: MIT OpenCourseWare, https://ocw.mit.edu. License: Creative Commons BY-NC-SA.\n",
    "\n"
   ]
  },
  {
   "cell_type": "markdown",
   "metadata": {},
   "source": [
    "## Final Bell\n",
    "\n"
   ]
  },
  {
   "cell_type": "code",
   "execution_count": null,
   "metadata": {},
   "outputs": [],
   "source": [
    "# stackoverfow.com/a/24634221\n",
    "import os\n",
    "os.system(\"printf '\\a'\");\n",
    "\n"
   ]
  },
  {
   "cell_type": "code",
   "execution_count": null,
   "metadata": {},
   "outputs": [],
   "source": []
  }
 ],
 "metadata": {
  "kernelspec": {
   "display_name": "Python 3",
   "language": "python",
   "name": "python3"
  },
  "language_info": {
   "codemirror_mode": {
    "name": "ipython",
    "version": 3
   },
   "file_extension": ".py",
   "mimetype": "text/x-python",
   "name": "python",
   "nbconvert_exporter": "python",
   "pygments_lexer": "ipython3",
   "version": "3.7.3"
  }
 },
 "nbformat": 4,
 "nbformat_minor": 2
}
