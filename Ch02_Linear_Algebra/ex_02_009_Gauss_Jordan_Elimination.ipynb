{
 "cells": [
  {
   "cell_type": "code",
   "execution_count": 1,
   "metadata": {},
   "outputs": [],
   "source": [
    "import numpy as np\n",
    "import numpy.random as nr\n",
    "import sympy as sy\n",
    "import typing\n",
    "\n",
    "import IPython.display as disp\n",
    "\n"
   ]
  },
  {
   "cell_type": "code",
   "execution_count": 2,
   "metadata": {},
   "outputs": [],
   "source": [
    "sy.init_printing()\n",
    "\n"
   ]
  },
  {
   "cell_type": "markdown",
   "metadata": {},
   "source": [
    "# Ex 02 009 Inverse matrix by Gauss-Jordan Elimination\n",
    "\n"
   ]
  },
  {
   "cell_type": "markdown",
   "metadata": {},
   "source": [
    "* Marc Peter Deisenroth, A Aldo Faisal, and Cheng Soon Ong, Mathematics For Machine Learning, Cambridge University Press, 2020, ISBN 978-1108455145.\n",
    "\n"
   ]
  },
  {
   "cell_type": "markdown",
   "metadata": {},
   "source": [
    "Let's think about a 4x4 matrix as follows.\n",
    "\n"
   ]
  },
  {
   "cell_type": "code",
   "execution_count": 3,
   "metadata": {},
   "outputs": [],
   "source": [
    "A44 = np.array([\n",
    "    [1, 0, 2, 0],\n",
    "    [1, 1, 0, 0],\n",
    "    [1, 2, 0, 1],\n",
    "    [1, 1, 1, 1],\n",
    "])\n",
    "\n"
   ]
  },
  {
   "cell_type": "code",
   "execution_count": 4,
   "metadata": {},
   "outputs": [
    {
     "data": {
      "text/plain": [
       "array([[1, 0, 2, 0],\n",
       "       [1, 1, 0, 0],\n",
       "       [1, 2, 0, 1],\n",
       "       [1, 1, 1, 1]])"
      ]
     },
     "execution_count": 4,
     "metadata": {},
     "output_type": "execute_result"
    }
   ],
   "source": [
    "A44\n",
    "\n"
   ]
  },
  {
   "cell_type": "markdown",
   "metadata": {},
   "source": [
    "Let's also think about an identity matrix of the same size.\n",
    "\n"
   ]
  },
  {
   "cell_type": "code",
   "execution_count": 5,
   "metadata": {},
   "outputs": [],
   "source": [
    "I44 = np.identity(A44.shape[0], dtype=A44.dtype)\n",
    "\n"
   ]
  },
  {
   "cell_type": "code",
   "execution_count": 6,
   "metadata": {},
   "outputs": [
    {
     "data": {
      "text/plain": [
       "array([[1, 0, 0, 0],\n",
       "       [0, 1, 0, 0],\n",
       "       [0, 0, 1, 0],\n",
       "       [0, 0, 0, 1]])"
      ]
     },
     "execution_count": 6,
     "metadata": {},
     "output_type": "execute_result"
    }
   ],
   "source": [
    "I44\n",
    "\n"
   ]
  },
  {
   "cell_type": "markdown",
   "metadata": {},
   "source": [
    "Let's augment both matrices.\n",
    "\n"
   ]
  },
  {
   "cell_type": "code",
   "execution_count": 7,
   "metadata": {},
   "outputs": [],
   "source": [
    "AX44 = np.hstack([A44, I44]) * 1.0\n",
    "\n"
   ]
  },
  {
   "cell_type": "code",
   "execution_count": 8,
   "metadata": {},
   "outputs": [
    {
     "data": {
      "text/plain": [
       "array([[1., 0., 2., 0., 1., 0., 0., 0.],\n",
       "       [1., 1., 0., 0., 0., 1., 0., 0.],\n",
       "       [1., 2., 0., 1., 0., 0., 1., 0.],\n",
       "       [1., 1., 1., 1., 0., 0., 0., 1.]])"
      ]
     },
     "execution_count": 8,
     "metadata": {},
     "output_type": "execute_result"
    }
   ],
   "source": [
    "AX44\n",
    "\n"
   ]
  },
  {
   "cell_type": "markdown",
   "metadata": {},
   "source": [
    "## Gauss Jordan Elimination for `numpy.ndarray`\n",
    "\n"
   ]
  },
  {
   "cell_type": "markdown",
   "metadata": {},
   "source": [
    "Following cell imports an implementation of the Gauss Jordan Elimination.\n",
    "\n"
   ]
  },
  {
   "cell_type": "code",
   "execution_count": 9,
   "metadata": {},
   "outputs": [],
   "source": [
    "import gauss_jordan\n",
    "\n"
   ]
  },
  {
   "cell_type": "markdown",
   "metadata": {},
   "source": [
    "Let's apply to the augmented matrix.\n",
    "\n"
   ]
  },
  {
   "cell_type": "code",
   "execution_count": 10,
   "metadata": {},
   "outputs": [
    {
     "name": "stdout",
     "output_type": "stream",
     "text": [
      "Row 1 is now the Pivot Row.\n",
      "Row 2 += (-1.0) x Row 1\n",
      "[[ 1.  0.  2.  0.  1.  0.  0.  0.]\n",
      " [ 0.  1. -2.  0. -1.  1.  0.  0.]\n",
      " [ 1.  2.  0.  1.  0.  0.  1.  0.]\n",
      " [ 1.  1.  1.  1.  0.  0.  0.  1.]]\n",
      "Row 3 += (-1.0) x Row 1\n",
      "[[ 1.  0.  2.  0.  1.  0.  0.  0.]\n",
      " [ 0.  1. -2.  0. -1.  1.  0.  0.]\n",
      " [ 0.  2. -2.  1. -1.  0.  1.  0.]\n",
      " [ 1.  1.  1.  1.  0.  0.  0.  1.]]\n",
      "Row 4 += (-1.0) x Row 1\n",
      "[[ 1.  0.  2.  0.  1.  0.  0.  0.]\n",
      " [ 0.  1. -2.  0. -1.  1.  0.  0.]\n",
      " [ 0.  2. -2.  1. -1.  0.  1.  0.]\n",
      " [ 0.  1. -1.  1. -1.  0.  0.  1.]]\n",
      "Row 2 is now the Pivot Row.\n",
      "Row 3 += (-2.0) x Row 2\n",
      "[[ 1.  0.  2.  0.  1.  0.  0.  0.]\n",
      " [ 0.  1. -2.  0. -1.  1.  0.  0.]\n",
      " [ 0.  0.  2.  1.  1. -2.  1.  0.]\n",
      " [ 0.  1. -1.  1. -1.  0.  0.  1.]]\n",
      "Row 4 += (-1.0) x Row 2\n",
      "[[ 1.  0.  2.  0.  1.  0.  0.  0.]\n",
      " [ 0.  1. -2.  0. -1.  1.  0.  0.]\n",
      " [ 0.  0.  2.  1.  1. -2.  1.  0.]\n",
      " [ 0.  0.  1.  1.  0. -1.  0.  1.]]\n",
      "Row 3 is now the Pivot Row.\n",
      "Normalize Row 3 with 0.5.\n",
      "[[ 1.   0.   2.   0.   1.   0.   0.   0. ]\n",
      " [ 0.   1.  -2.   0.  -1.   1.   0.   0. ]\n",
      " [ 0.   0.   1.   0.5  0.5 -1.   0.5  0. ]\n",
      " [ 0.   0.   1.   1.   0.  -1.   0.   1. ]]\n",
      "Row 1 += (-2.0) x Row 3\n",
      "[[ 1.   0.   0.  -1.   0.   2.  -1.   0. ]\n",
      " [ 0.   1.  -2.   0.  -1.   1.   0.   0. ]\n",
      " [ 0.   0.   1.   0.5  0.5 -1.   0.5  0. ]\n",
      " [ 0.   0.   1.   1.   0.  -1.   0.   1. ]]\n",
      "Row 2 += (2.0) x Row 3\n",
      "[[ 1.   0.   0.  -1.   0.   2.  -1.   0. ]\n",
      " [ 0.   1.   0.   1.   0.  -1.   1.   0. ]\n",
      " [ 0.   0.   1.   0.5  0.5 -1.   0.5  0. ]\n",
      " [ 0.   0.   1.   1.   0.  -1.   0.   1. ]]\n",
      "Row 4 += (-1.0) x Row 3\n",
      "[[ 1.   0.   0.  -1.   0.   2.  -1.   0. ]\n",
      " [ 0.   1.   0.   1.   0.  -1.   1.   0. ]\n",
      " [ 0.   0.   1.   0.5  0.5 -1.   0.5  0. ]\n",
      " [ 0.   0.   0.   0.5 -0.5  0.  -0.5  1. ]]\n",
      "Row 4 is now the Pivot Row.\n",
      "Normalize Row 4 with 2.0.\n",
      "[[ 1.   0.   0.  -1.   0.   2.  -1.   0. ]\n",
      " [ 0.   1.   0.   1.   0.  -1.   1.   0. ]\n",
      " [ 0.   0.   1.   0.5  0.5 -1.   0.5  0. ]\n",
      " [ 0.   0.   0.   1.  -1.   0.  -1.   2. ]]\n",
      "Row 1 += (1.0) x Row 4\n",
      "[[ 1.   0.   0.   0.  -1.   2.  -2.   2. ]\n",
      " [ 0.   1.   0.   1.   0.  -1.   1.   0. ]\n",
      " [ 0.   0.   1.   0.5  0.5 -1.   0.5  0. ]\n",
      " [ 0.   0.   0.   1.  -1.   0.  -1.   2. ]]\n",
      "Row 2 += (-1.0) x Row 4\n",
      "[[ 1.   0.   0.   0.  -1.   2.  -2.   2. ]\n",
      " [ 0.   1.   0.   0.   1.  -1.   2.  -2. ]\n",
      " [ 0.   0.   1.   0.5  0.5 -1.   0.5  0. ]\n",
      " [ 0.   0.   0.   1.  -1.   0.  -1.   2. ]]\n",
      "Row 3 += (-0.5) x Row 4\n",
      "[[ 1.  0.  0.  0. -1.  2. -2.  2.]\n",
      " [ 0.  1.  0.  0.  1. -1.  2. -2.]\n",
      " [ 0.  0.  1.  0.  1. -1.  1. -1.]\n",
      " [ 0.  0.  0.  1. -1.  0. -1.  2.]]\n"
     ]
    }
   ],
   "source": [
    "A44_inv_GJ = gauss_jordan.elimination(AX44)\n",
    "\n"
   ]
  },
  {
   "cell_type": "code",
   "execution_count": 11,
   "metadata": {},
   "outputs": [
    {
     "data": {
      "text/plain": [
       "array([[-1.,  2., -2.,  2.],\n",
       "       [ 1., -1.,  2., -2.],\n",
       "       [ 1., -1.,  1., -1.],\n",
       "       [-1.,  0., -1.,  2.]])"
      ]
     },
     "execution_count": 11,
     "metadata": {},
     "output_type": "execute_result"
    }
   ],
   "source": [
    "A44_inv_GJ\n",
    "\n"
   ]
  },
  {
   "cell_type": "code",
   "execution_count": 12,
   "metadata": {},
   "outputs": [
    {
     "data": {
      "text/plain": [
       "array([[1., 0., 0., 0.],\n",
       "       [0., 1., 0., 0.],\n",
       "       [0., 0., 1., 0.],\n",
       "       [0., 0., 0., 1.]])"
      ]
     },
     "execution_count": 12,
     "metadata": {},
     "output_type": "execute_result"
    }
   ],
   "source": [
    "A44_inv_GJ @ A44\n",
    "\n"
   ]
  },
  {
   "cell_type": "code",
   "execution_count": 13,
   "metadata": {},
   "outputs": [],
   "source": [
    "import numpy.testing as nt\n",
    "\n",
    "\n",
    "nt.assert_array_almost_equal(A44_inv_GJ @ A44, np.array(np.identity(A44.shape[0])))\n",
    "\n"
   ]
  },
  {
   "cell_type": "markdown",
   "metadata": {},
   "source": [
    "## References\n",
    "\n"
   ]
  },
  {
   "cell_type": "markdown",
   "metadata": {},
   "source": [
    "* Gilbert Strang. 18.06 Linear Algebra. Spring 2010. Massachusetts Institute of Technology: MIT OpenCourseWare, https://ocw.mit.edu. License: Creative Commons BY-NC-SA.\n",
    "\n"
   ]
  },
  {
   "cell_type": "markdown",
   "metadata": {},
   "source": [
    "## Final Bell\n",
    "\n"
   ]
  },
  {
   "cell_type": "code",
   "execution_count": 14,
   "metadata": {},
   "outputs": [],
   "source": [
    "# stackoverfow.com/a/24634221\n",
    "import os\n",
    "os.system(\"printf '\\a'\");\n",
    "\n"
   ]
  },
  {
   "cell_type": "code",
   "execution_count": null,
   "metadata": {},
   "outputs": [],
   "source": []
  }
 ],
 "metadata": {
  "kernelspec": {
   "display_name": "Python 3",
   "language": "python",
   "name": "python3"
  },
  "language_info": {
   "codemirror_mode": {
    "name": "ipython",
    "version": 3
   },
   "file_extension": ".py",
   "mimetype": "text/x-python",
   "name": "python",
   "nbconvert_exporter": "python",
   "pygments_lexer": "ipython3",
   "version": "3.7.3"
  }
 },
 "nbformat": 4,
 "nbformat_minor": 2
}
